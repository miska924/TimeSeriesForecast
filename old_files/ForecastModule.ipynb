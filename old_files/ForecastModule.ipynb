{
 "metadata": {
  "language_info": {
   "codemirror_mode": {
    "name": "ipython",
    "version": 3
   },
   "file_extension": ".py",
   "mimetype": "text/x-python",
   "name": "python",
   "nbconvert_exporter": "python",
   "pygments_lexer": "ipython3",
   "version": "3.9.2"
  },
  "orig_nbformat": 2,
  "kernelspec": {
   "name": "python392jvsc74a57bd0b6a781460c777fa91f2c2b0b475321eb19705a85a7d41e3d4e04ab55b5ca60be",
   "display_name": "Python 3.9.2 64-bit ('time_series': virtualenvwrapper)"
  }
 },
 "nbformat": 4,
 "nbformat_minor": 2,
 "cells": [
  {
   "cell_type": "code",
   "execution_count": null,
   "metadata": {},
   "outputs": [],
   "source": [
    "# targets -- целевые переменыне\n",
    "# regressors -- зависимые переменные\n",
    "class ForecastModule:\n",
    "    def __init__(self, target_name, targets, regressors):\n",
    "        Y = targets[target_name]\n",
    "        X = regressors[target_name]\n",
    "        self.data = pd.concat([Y,X])\n",
    "\n",
    "    def data_process(self) :\n",
    "    #    2) m лагов y\n",
    "    #    3) p лагов каждого X_j\n",
    "    #    4) Среднее значение Y за k дней\n",
    "        self.dataset = # Ваш датасет с фичами\n",
    "\n",
    "    def select_features(self, threshold=0.1):\n",
    "        # self.dataset -> фильтрация -> маска фичей\n",
    "        # [True]*len(self.dataset.columns)\n",
    "    \n",
    "    def fit_predict_lr(self, train, test):\n",
    "        return fit_predict \n",
    "\n",
    "    def direct_dataset_processing(self, H):\n",
    "        for h in H:\n",
    "\n",
    "            yield train, test\n",
    "\n"
   ]
  }
 ]
}